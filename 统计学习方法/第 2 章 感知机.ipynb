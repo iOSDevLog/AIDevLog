{
 "cells": [
  {
   "cell_type": "markdown",
   "metadata": {},
   "source": [
    "Statistical Learning Method 统计学习方法 https://pypi.org/project/slmethod/"
   ]
  },
  {
   "cell_type": "code",
   "execution_count": 1,
   "metadata": {},
   "outputs": [],
   "source": [
    "import numpy as np\n",
    "import matplotlib.pyplot as plt\n",
    "from sklearn.datasets import make_classification\n",
    "%matplotlib inline"
   ]
  },
  {
   "cell_type": "markdown",
   "metadata": {},
   "source": [
    "## 生成数据"
   ]
  },
  {
   "cell_type": "code",
   "execution_count": 2,
   "metadata": {},
   "outputs": [],
   "source": [
    "# X 为样本特征，y 为样本类别输出，共 30 个样本，每个样本 2 个特\n",
    "# 输出有 2 个类别，没有冗余特征，每个类别一个簇，随机状态为小武小久\n",
    "X, y = make_classification(n_samples=40,\n",
    "                           n_features=2,\n",
    "                           n_informative=2,\n",
    "                           n_redundant=0,\n",
    "                           n_classes=2,\n",
    "                           n_clusters_per_class=1,\n",
    "                           random_state=59)"
   ]
  },
  {
   "cell_type": "markdown",
   "metadata": {},
   "source": [
    "## 处理 y 值，取值为范围 {-1, 1}"
   ]
  },
  {
   "cell_type": "code",
   "execution_count": 3,
   "metadata": {},
   "outputs": [],
   "source": [
    "y = np.array([1 if i == 1 else -1 for i in y])"
   ]
  },
  {
   "cell_type": "code",
   "execution_count": 4,
   "metadata": {},
   "outputs": [
    {
     "data": {
      "text/plain": [
       "array([[ 1.26654361,  1.20833252],\n",
       "       [ 2.06535223, -2.13177734],\n",
       "       [ 0.11811139,  0.76083319],\n",
       "       [ 0.90184139, -0.93177662],\n",
       "       [ 0.96240122, -0.99933393],\n",
       "       [ 0.32421018, -0.79732491],\n",
       "       [ 0.16465073, -0.67426018],\n",
       "       [-0.8393532 ,  0.02946355],\n",
       "       [ 1.50737475, -1.62701845],\n",
       "       [ 1.81169336, -1.46844229],\n",
       "       [ 2.63399788,  0.97604937],\n",
       "       [ 1.59518059, -1.52110826],\n",
       "       [ 1.74505037,  1.46262955],\n",
       "       [ 1.86201667,  0.93060442],\n",
       "       [ 0.11905276, -0.52595242],\n",
       "       [ 1.48508147, -0.97794231],\n",
       "       [-0.92705557,  0.39367018],\n",
       "       [ 3.42983834, -2.72193889],\n",
       "       [ 1.99481682,  1.60244273],\n",
       "       [ 2.59197055,  1.29968242],\n",
       "       [ 1.60598522, -1.13518763],\n",
       "       [ 1.52118196,  1.12174498],\n",
       "       [ 0.13097699, -0.58481754],\n",
       "       [ 0.84318571,  0.65777867],\n",
       "       [ 1.0940501 , -0.02064728],\n",
       "       [ 0.36579428,  1.32704784],\n",
       "       [ 1.46113021,  1.11893705],\n",
       "       [ 0.42126239, -0.25448586],\n",
       "       [ 0.97213672,  0.63569881],\n",
       "       [ 0.81731191,  0.7569019 ],\n",
       "       [ 1.85348049, -1.36379487],\n",
       "       [ 0.81830809,  0.89762419],\n",
       "       [ 0.9559071 , -1.13200362],\n",
       "       [ 1.19788365,  0.24486292],\n",
       "       [ 0.43394253,  1.2190042 ],\n",
       "       [ 0.75245696, -1.00391468],\n",
       "       [ 0.26120942, -0.49444024],\n",
       "       [ 0.23915671,  1.72744475],\n",
       "       [ 1.33104015,  1.73132756],\n",
       "       [ 2.37528241,  1.47588251]])"
      ]
     },
     "execution_count": 4,
     "metadata": {},
     "output_type": "execute_result"
    }
   ],
   "source": [
    "X"
   ]
  },
  {
   "cell_type": "code",
   "execution_count": 5,
   "metadata": {},
   "outputs": [
    {
     "data": {
      "text/plain": [
       "array([ 1, -1,  1, -1, -1, -1, -1, -1, -1, -1,  1, -1,  1,  1, -1, -1, -1,\n",
       "       -1,  1,  1, -1,  1, -1,  1,  1,  1,  1, -1,  1,  1, -1,  1, -1,  1,\n",
       "        1, -1, -1,  1,  1,  1])"
      ]
     },
     "execution_count": 5,
     "metadata": {},
     "output_type": "execute_result"
    }
   ],
   "source": [
    "y"
   ]
  },
  {
   "cell_type": "code",
   "execution_count": 6,
   "metadata": {},
   "outputs": [
    {
     "data": {
      "text/plain": [
       "<matplotlib.collections.PathCollection at 0x129908d68>"
      ]
     },
     "execution_count": 6,
     "metadata": {},
     "output_type": "execute_result"
    },
    {
     "data": {
      "image/png": "[encoded data removed]",
      "text/plain": [
       "<Figure size 432x288 with 1 Axes>"
      ]
     },
     "metadata": {
      "needs_background": "light"
     },
     "output_type": "display_data"
    }
   ],
   "source": [
    "plt.scatter(X[:, 0], X[:, 1], c=y, s=40, marker='o')"
   ]
  },
  {
   "cell_type": "markdown",
   "metadata": {},
   "source": [
    "## sklearn 里面的 Perceptron"
   ]
  },
  {
   "cell_type": "code",
   "execution_count": 7,
   "metadata": {},
   "outputs": [],
   "source": [
    "from sklearn.linear_model import Perceptron"
   ]
  },
  {
   "cell_type": "code",
   "execution_count": 8,
   "metadata": {},
   "outputs": [
    {
     "data": {
      "text/plain": [
       "Perceptron(alpha=0.0001, class_weight=None, early_stopping=False, eta0=1.0,\n",
       "           fit_intercept=True, max_iter=1000, n_iter_no_change=5, n_jobs=None,\n",
       "           penalty=None, random_state=0, shuffle=False, tol=0.001,\n",
       "           validation_fraction=0.1, verbose=0, warm_start=False)"
      ]
     },
     "execution_count": 8,
     "metadata": {},
     "output_type": "execute_result"
    }
   ],
   "source": [
    "clf = Perceptron(fit_intercept=True, max_iter=1000, shuffle=False)\n",
    "clf.fit(X, y)"
   ]
  },
  {
   "cell_type": "code",
   "execution_count": 9,
   "metadata": {},
   "outputs": [
    {
     "name": "stdout",
     "output_type": "stream",
     "text": [
      "[[2.06165026 2.89632885]]\n"
     ]
    }
   ],
   "source": [
    "# Weights 权重（值）\n",
    "print(clf.coef_)"
   ]
  },
  {
   "cell_type": "code",
   "execution_count": 10,
   "metadata": {},
   "outputs": [
    {
     "name": "stdout",
     "output_type": "stream",
     "text": [
      "[-1.]\n"
     ]
    }
   ],
   "source": [
    "# bias 截距\n",
    "print(clf.intercept_)"
   ]
  },
  {
   "cell_type": "code",
   "execution_count": 11,
   "metadata": {},
   "outputs": [
    {
     "data": {
      "text/plain": [
       "[<matplotlib.lines.Line2D at 0x12bdbe320>]"
      ]
     },
     "execution_count": 11,
     "metadata": {},
     "output_type": "execute_result"
    },
    {
     "data": {
      "image/png": "[encoded data removed]",
      "text/plain": [
       "<Figure size 432x288 with 1 Axes>"
      ]
     },
     "metadata": {
      "needs_background": "light"
     },
     "output_type": "display_data"
    }
   ],
   "source": [
    "plt.scatter(X[:, 0], X[:, 1], c=y, s=40, marker='o')\n",
    "\n",
    "minX = np.min(X[:, 0])\n",
    "maxX = np.max(X[:, 0])\n",
    "x_points = np.array([minX, maxX])\n",
    "\n",
    "sklearn_y = -(clf.coef_[0][0] * x_points + clf.intercept_) / clf.coef_[0][1]\n",
    "plt.plot(x_points, sklearn_y, 'b-.', label='sklearn', linewidth=0.3)"
   ]
  },
  {
   "cell_type": "markdown",
   "metadata": {},
   "source": [
    "## 原始感知机"
   ]
  },
  {
   "cell_type": "code",
   "execution_count": 12,
   "metadata": {},
   "outputs": [],
   "source": [
    "from slmethod.perceptron import Perceptron"
   ]
  },
  {
   "cell_type": "code",
   "execution_count": 13,
   "metadata": {},
   "outputs": [],
   "source": [
    "origin_clf = Perceptron(dual=False)\n",
    "origin_clf.fit(X, y)"
   ]
  },
  {
   "cell_type": "code",
   "execution_count": 14,
   "metadata": {},
   "outputs": [
    {
     "name": "stdout",
     "output_type": "stream",
     "text": [
      "[0.20616503 0.28963289]\n"
     ]
    }
   ],
   "source": [
    "print(origin_clf.w)"
   ]
  },
  {
   "cell_type": "code",
   "execution_count": 15,
   "metadata": {},
   "outputs": [
    {
     "name": "stdout",
     "output_type": "stream",
     "text": [
      "-0.1\n"
     ]
    }
   ],
   "source": [
    "print(origin_clf.b)"
   ]
  },
  {
   "cell_type": "markdown",
   "metadata": {},
   "source": [
    "## 对偶形式"
   ]
  },
  {
   "cell_type": "code",
   "execution_count": 16,
   "metadata": {},
   "outputs": [],
   "source": [
    "dual_clf = Perceptron(dual=True)\n",
    "dual_clf.fit(X, y)"
   ]
  },
  {
   "cell_type": "code",
   "execution_count": 17,
   "metadata": {},
   "outputs": [
    {
     "name": "stdout",
     "output_type": "stream",
     "text": [
      "[0.20616503 0.28963289]\n"
     ]
    }
   ],
   "source": [
    "print(dual_clf.w)"
   ]
  },
  {
   "cell_type": "code",
   "execution_count": 18,
   "metadata": {},
   "outputs": [
    {
     "name": "stdout",
     "output_type": "stream",
     "text": [
      "-0.1\n"
     ]
    }
   ],
   "source": [
    "print(dual_clf.b)"
   ]
  },
  {
   "cell_type": "markdown",
   "metadata": {},
   "source": [
    "# 绘图"
   ]
  },
  {
   "cell_type": "code",
   "execution_count": 19,
   "metadata": {},
   "outputs": [
    {
     "data": {
      "image/png": "[encoded data removed]",
      "text/plain": [
       "<Figure size 432x288 with 1 Axes>"
      ]
     },
     "metadata": {
      "needs_background": "light"
     },
     "output_type": "display_data"
    }
   ],
   "source": [
    "plt.scatter(X[:, 0], X[:, 1], c=y, s=40, marker='o')\n",
    "sklearn_y = -(clf.coef_[0][0] * x_points + clf.intercept_) / clf.coef_[0][1]\n",
    "origin_y = -(origin_clf.w[0] * x_points + origin_clf.b) / origin_clf.w[1]\n",
    "dual_y = -(dual_clf.w[0] * x_points + dual_clf.b) / dual_clf.w[1]\n",
    "plt.plot(x_points, sklearn_y, 'b*', label='sklearn')\n",
    "plt.plot(x_points, origin_y, 'r.-', label='origin')\n",
    "plt.plot(x_points, dual_y, 'g-.', label='dual')\n",
    "plt.legend()\n",
    "plt.show()"
   ]
  },
  {
   "cell_type": "markdown",
   "metadata": {},
   "source": [
    "从上图可以看到 sklearn，原始类型和对偶形式的线几乎重合了。"
   ]
  }
 ],
 "metadata": {
  "kernelspec": {
   "display_name": "Python 3",
   "language": "python",
   "name": "python3"
  },
  "language_info": {
   "codemirror_mode": {
    "name": "ipython",
    "version": 3
   },
   "file_extension": ".py",
   "mimetype": "text/x-python",
   "name": "python",
   "nbconvert_exporter": "python",
   "pygments_lexer": "ipython3",
   "version": "3.7.3"
  }
 },
 "nbformat": 4,
 "nbformat_minor": 2
}

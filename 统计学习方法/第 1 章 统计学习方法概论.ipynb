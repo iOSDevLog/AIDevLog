{
 "cells": [
  {
   "cell_type": "markdown",
   "metadata": {
    "toc": true
   },
   "source": [
    "<h1>Table of Contents<span class=\"tocSkip\"></span></h1>\n",
    "<div class=\"toc\"><ul class=\"toc-item\"><li><span><a href=\"#统计学习\" data-toc-modified-id=\"统计学习-1\"><span class=\"toc-item-num\">1&nbsp;&nbsp;</span>统计学习</a></span><ul class=\"toc-item\"><li><span><a href=\"#统计学习的特点\" data-toc-modified-id=\"统计学习的特点-1.1\"><span class=\"toc-item-num\">1.1&nbsp;&nbsp;</span>统计学习的特点</a></span></li></ul></li><li><span><a href=\"#监督学习\" data-toc-modified-id=\"监督学习-2\"><span class=\"toc-item-num\">2&nbsp;&nbsp;</span>监督学习</a></span><ul class=\"toc-item\"><li><span><a href=\"#基本概念\" data-toc-modified-id=\"基本概念-2.1\"><span class=\"toc-item-num\">2.1&nbsp;&nbsp;</span>基本概念</a></span></li><li><span><a href=\"#问题的形式化\" data-toc-modified-id=\"问题的形式化-2.2\"><span class=\"toc-item-num\">2.2&nbsp;&nbsp;</span>问题的形式化</a></span></li></ul></li><li><span><a href=\"#统计学习三要素\" data-toc-modified-id=\"统计学习三要素-3\"><span class=\"toc-item-num\">3&nbsp;&nbsp;</span>统计学习三要素</a></span><ul class=\"toc-item\"><li><span><a href=\"#模型\" data-toc-modified-id=\"模型-3.1\"><span class=\"toc-item-num\">3.1&nbsp;&nbsp;</span>模型</a></span></li><li><span><a href=\"#策略\" data-toc-modified-id=\"策略-3.2\"><span class=\"toc-item-num\">3.2&nbsp;&nbsp;</span>策略</a></span></li><li><span><a href=\"#算法\" data-toc-modified-id=\"算法-3.3\"><span class=\"toc-item-num\">3.3&nbsp;&nbsp;</span>算法</a></span></li></ul></li><li><span><a href=\"#模型评估与模型选择\" data-toc-modified-id=\"模型评估与模型选择-4\"><span class=\"toc-item-num\">4&nbsp;&nbsp;</span>模型评估与模型选择</a></span><ul class=\"toc-item\"><li><span><a href=\"#训练误差与测试误差\" data-toc-modified-id=\"训练误差与测试误差-4.1\"><span class=\"toc-item-num\">4.1&nbsp;&nbsp;</span>训练误差与测试误差</a></span></li><li><span><a href=\"#过拟合与模型选择\" data-toc-modified-id=\"过拟合与模型选择-4.2\"><span class=\"toc-item-num\">4.2&nbsp;&nbsp;</span>过拟合与模型选择</a></span></li></ul></li><li><span><a href=\"#正则化与交叉验证\" data-toc-modified-id=\"正则化与交叉验证-5\"><span class=\"toc-item-num\">5&nbsp;&nbsp;</span>正则化与交叉验证</a></span><ul class=\"toc-item\"><li><span><a href=\"#正则化\" data-toc-modified-id=\"正则化-5.1\"><span class=\"toc-item-num\">5.1&nbsp;&nbsp;</span>正则化</a></span></li><li><span><a href=\"#交叉验证\" data-toc-modified-id=\"交叉验证-5.2\"><span class=\"toc-item-num\">5.2&nbsp;&nbsp;</span>交叉验证</a></span></li></ul></li><li><span><a href=\"#泛化能力\" data-toc-modified-id=\"泛化能力-6\"><span class=\"toc-item-num\">6&nbsp;&nbsp;</span>泛化能力</a></span><ul class=\"toc-item\"><li><span><a href=\"#泛化误差\" data-toc-modified-id=\"泛化误差-6.1\"><span class=\"toc-item-num\">6.1&nbsp;&nbsp;</span>泛化误差</a></span></li><li><span><a href=\"#泛化误差上界\" data-toc-modified-id=\"泛化误差上界-6.2\"><span class=\"toc-item-num\">6.2&nbsp;&nbsp;</span>泛化误差上界</a></span></li></ul></li><li><span><a href=\"#生成模型与判别模型\" data-toc-modified-id=\"生成模型与判别模型-7\"><span class=\"toc-item-num\">7&nbsp;&nbsp;</span>生成模型与判别模型</a></span></li><li><span><a href=\"#分类问题\" data-toc-modified-id=\"分类问题-8\"><span class=\"toc-item-num\">8&nbsp;&nbsp;</span>分类问题</a></span></li><li><span><a href=\"#标注问题\" data-toc-modified-id=\"标注问题-9\"><span class=\"toc-item-num\">9&nbsp;&nbsp;</span>标注问题</a></span></li><li><span><a href=\"#回归问题\" data-toc-modified-id=\"回归问题-10\"><span class=\"toc-item-num\">10&nbsp;&nbsp;</span>回归问题</a></span></li></ul></div>"
   ]
  },
  {
   "cell_type": "markdown",
   "metadata": {},
   "source": [
    "* 学习的定义、研究对象与方法；然后叙述监督学习，这是本书的主要内容\n",
    "* 统计学习方法的三要素：模型、策略和算法\n",
    "* 模型选择，包括正则化、交叉验证与学习的泛化能力\n",
    "* 生成模型与判别模型\n",
    "* 监督学习方法的应用：分类问题、标注问题与回归问题"
   ]
  },
  {
   "cell_type": "markdown",
   "metadata": {},
   "source": [
    "## 统计学习"
   ]
  },
  {
   "cell_type": "markdown",
   "metadata": {},
   "source": [
    "### 统计学习的特点\n",
    "\n",
    "统计学习（statistical learning）是关于计算机基于数据构建概率统计模型并运用模型对数据进行预测与分析的一门学科。统计学习也称为统计机器学习（statistical machine learning）。\n",
    "统计学习的主要特点是：（1）统计学习以计算机及网络为平台，是建立在计算机及网络之上的；（2）统计学习以数据为研究对象，是数据驱动的学科；（3）统计学习的目的是对数据进行预测与分析；（4）统计学习以方法为中心，统计学习方法构建模型并应用模型进行预测与分析；（5）统计学习是概率论、统计学、信息论、计算理论、最优化理论及计算机科学等多个领域的交叉学科，并且在发展中逐步形成独自的理论体系与方法论。\n",
    "赫尔伯特·西蒙（Herbert A. Simon）曾对“学习”给出以下定义：“如果一个系统能够通过执行某个过程改进它的性能，这就是学习。”按照这一观点，统计学习就是计算机系统通过运用数据及统计方法提高系统性能的机器学习。现在，当人们提及机器学习时，往往是指统计机器学习。\n",
    "2．统计学习的对象\n",
    "统计学习的对象是数据（data）。它从数据出发，提取数据的特征，抽象出数据的模型，发现数据中的知识，又回到对数据的分析与预测中去。作为统计学习的对象，数据是多样的，包括存在于计算机及网络上的各种数字、文字、图像、视频、音频数据以及它们的组合。\n",
    "统计学习关于数据的基本假设是同类数据具有一定的统计规律性，这是统计学习的前提。这里的同类数据是指具有某种共同性质的数据，例如英文文章、互联网网页、数据库中的数据等。由于它们具有统计规律性，所以可以用概率统计方法来加以处理。比如，可以用随机变量描述数据中的特征，用概率分布描述数据的统计规律。\n",
    "在统计学习过程中，以变量或变量组表示数据。数据分为由连续变量和离散变量表示的类型。本书以讨论离散变量的方法为主。另外，本书只涉及利用数据构建模型及利用模型对数据进行分析与预测，对数据的观测和收集等问题不作讨论。\n",
    "3．统计学习的目的\n",
    "统计学习用于对数据进行预测与分析，特别是对未知新数据进行预测与分析。对数据的预测可以使计算机更加智能化，或者说使计算机的某些性能得到提高；对数据的分析可以让人们获取新的知识，给人们带来新的发现。\n",
    "对数据的预测与分析是通过构建概率统计模型实现的。统计学习总的目标就是考虑学习什么样的模型和如何学习模型，以使模型能对数据进行准确的预测与分析，同时也要考虑尽可能地提高学习效率。\n",
    "4．统计学习的方法\n",
    "统计学习的方法是基于数据构建统计模型从而对数据进行预测与分析。统计学习由监督学习（supervised learning）、非监督学习（unsupervised learning）、半监督学习（semi-supervised learning）和强化学习（reinforcement learning）等组成。\n",
    "本书主要讨论监督学习，这种情况下统计学习的方法可以概括如下：从给定的、有限的、用于学习的训练数据（training data）集合出发，假设数据是独立同分布产生的；并且假设要学习的模型属于某个函数的集合，称为假设空间（hypothesis space）；应用某个评价准则（evaluation criterion），从假设空间中选取一个最优的模型，使它对已知训练数据及未知测试数据（test data）在给定的评价准则下有最优的预测；最优模型的选取由算法实现。这样，统计学习方法包括模型的假设空间、模型选择的准则以及模型学习的算法，称其为统计学习方法的三要素，简称为模型（model）、策略（strategy）和算法（algorithm）。\n",
    "实现统计学习方法的步骤如下：\n",
    "（1）得到一个有限的训练数据集合；\n",
    "（2）确定包含所有可能的模型的假设空间，即学习模型的集合；\n",
    "（3）确定模型选择的准则，即学习的策略；\n",
    "（4）实现求解最优模型的算法，即学习的算法；\n",
    "（5）通过学习方法选择最优模型；\n",
    "（6）利用学习的最优模型对新数据进行预测或分析。\n",
    "本书以介绍统计学习方法为主，特别是监督学习方法，主要包括用于分类、标注与回归问题的方法。这些方法在自然语言处理、信息检索、文本数据挖掘等领域中有着极其广泛的应用。\n",
    "5．统计学习的研究\n",
    "统计学习研究一般包括统计学习方法（statistical learning method）、统计学习理论（statistical learning theory）及统计学习应用（application of statistical learning）三个方面。统计学习方法的研究旨在开发新的学习方法；统计学习理论的研究在于探求统计学习方法的有效性与效率，以及统计学习的基本理论问题；统计学习应用的研究主要考虑将统计学习方法应用到实际问题中去，解决实际问题。\n",
    "6．统计学习的重要性\n",
    "近20年来，统计学习无论是在理论还是在应用方面都得到了巨大的发展，有许多重大突破，统计学习已被成功地应用到人工智能、模式识别、数据挖掘、自然语言处理、语音识别、图像识别、信息检索和生物信息等许多计算机应用领域中，并且成为这些领域的核心技术。人们确信，统计学习将会在今后的科学发展和技术应用中发挥越来越大的作用。\n",
    "统计学习学科在科学技术中的重要性主要体现在以下几个方面：\n",
    "（1）统计学习是处理海量数据的有效方法。我们处于一个信息爆炸的时代，海量数据的处理与利用是人们必然的需求。现实中的数据不但规模大，而且常常具有不确定性，统计学习往往是处理这类数据最强有力的工具。\n",
    "（2）统计学习是计算机智能化的有效手段。智能化是计算机发展的必然趋势，也是计算机技术研究与开发的主要目标。近几十年来，人工智能等领域的研究表明，利用统计学习模仿人类智能的方法，虽有一定的局限性，但仍然是实现这一目标的最有效手段。\n",
    "（3）统计学习是计算机科学发展的一个重要组成部分。可以认为计算机科学由三维组成：系统、计算、信息。统计学习主要属于信息这一维，并在其中起着核心作用。"
   ]
  },
  {
   "cell_type": "markdown",
   "metadata": {},
   "source": [
    "## 监督学习"
   ]
  },
  {
   "cell_type": "markdown",
   "metadata": {},
   "source": [
    "统计学习包括监督学习、非监督学习、半监督学习及强化学习。本书主要讨论监督学习问题。\n",
    "监督学习（supervised learning）的任务是学习一个模型，使模型能够对任意给定的输入，对其相应的输出做出一个好的预测（注意，这里的输入、输出是指某个系统的输入与输出，与学习的输入与输出不同）。计算机的基本操作就是给定一个输入产生一个输出，所以监督学习是极其重要的统计学习分支，也是统计学习中内容最丰富、应用最广泛的部分。"
   ]
  },
  {
   "cell_type": "markdown",
   "metadata": {},
   "source": [
    "### 基本概念"
   ]
  },
  {
   "cell_type": "markdown",
   "metadata": {},
   "source": [
    "1．输入空间、特征空间与输出空间\n",
    "\n",
    "在监督学习中，将输入与输出所有可能取值的集合分别称为输入空间（input space）与输出空间（output space）。输入与输出空间可以是有限元素的集合，也可以是整个欧氏空间。输入空间与输出空间可以是同一个空间，也可以是不同的空间；但通常输出空间远远小于输入空间。\n",
    "每个具体的输入是一个实例（instance），通常由特征向量（feature vector）表示。这时，所有特征向量存在的空间称为特征空间（feature space）。特征空间的每一维对应于一个特征。有时假设输入空间与特征空间为相同的空间，对它们不予区分；有时假设输入空间与特征空间为不同的空间，将实例从输入空间映射到特征空间。模型实际上都是定义在特征空间上的。\n",
    "在监督学习过程中，将输入与输出看作是定义在输入（特征）空间与输出空间上的随机变量的取值。输入、输出变量用大写字母表示，习惯上输入变量写作X，输出变量写作Y。输入、输出变量所取的值用小写字母表示，输入变量的取值写作x，输出变量的取值写作y。变量可以是标量或向量，都用相同类型字母表示。除特别声明外，本书中向量均为列向量，输入实例x的特征向量记作\n",
    "\n",
    "x(i)表示x的第i个特征。注意，x(i)与xi不同，本书通常用xi表示多个输入变量中的第i个，即\n",
    "\n",
    "监督学习从训练数据（training data）集合中学习模型，对测试数据（test data）进行预测。训练数据由输入（或特征向量）与输出对组成，训练集通常表示为\n",
    "\n",
    "测试数据也由相应的输入与输出对组成。输入与输出对又称为样本（sample）或样本点。\n",
    "输入变量X和输出变量Y有不同的类型，可以是连续的，也可以是离散的。人们根据输入、输出变量的不同类型，对预测任务给予不同的名称：输入变量与输出变量均为连续变量的预测问题称为回归问题；输出变量为有限个离散变量的预测问题称为分类问题；输入变量与输出变量均为变量序列的预测问题称为标注问题。\n",
    "\n",
    "2．联合概率分布\n",
    "监督学习假设输入与输出的随机变量X和Y遵循联合概率分布P(X,Y)。P(X,Y)表示分布函数，或分布密度函数。注意，在学习过程中，假定这一联合概率分布存在，但对学习系统来说，联合概率分布的具体定义是未知的。训练数据与测试数据被看作是依联合概率分布P(X,Y)独立同分布产生的。统计学习假设数据存在一定的统计规律，X和Y具有联合概率分布的假设就是监督学习关于数据的基本假设。\n",
    "3．假设空间\n",
    "监督学习的目的在于学习一个由输入到输出的映射，这一映射由模型来表示。换句话说，学习的目的就在于找到最好的这样的模型。模型属于由输入空间到输出空间的映射的集合，这个集合就是假设空间（hypothesis space）。假设空间的确定意味着学习范围的确定。\n",
    "监督学习的模型可以是概率模型或非概率模型，由条件概率分布P(Y|X)或决策函数（decision function）Y=f(X)表示，随具体学习方法而定。对具体的输入进行相应的输出预测时，写作P(y|x)或Y=f(x)。"
   ]
  },
  {
   "cell_type": "markdown",
   "metadata": {},
   "source": [
    "### 问题的形式化"
   ]
  },
  {
   "cell_type": "markdown",
   "metadata": {},
   "source": [
    "监督学习利用训练数据集学习一个模型，再用模型对测试样本集进行预测（prediction）。由于在这个过程中需要训练数据集，而训练数据集往往是人工给出的，所以称为监督学习。监督学习分为学习和预测两个过程，由学习系统与预测系统完成，可用图1.1来描述。\n",
    "\n",
    "图1.1　监督学习问题\n",
    "首先给定一个训练数据集\n",
    "\n",
    "其中(xi,yi)，i＝1,2,…,N，称为样本或样本点。xi∊x⊆Rn是输入的观测值，也称为输入或实例，yi∊是输出的观测值，也称为输出。\n",
    "监督学习中，假设训练数据与测试数据是依联合概率分布P(X,Y)独立同分布产生的。\n",
    "在学习过程中，学习系统利用给定的训练数据集，通过学习（或训练）得到一个模型，表示为条件概率分布(Y|X)或决策函数Y＝(X)。条件概率分布(Y|X)或决策函数Y＝(X)描述输入与输出随机变量之间的映射关系。\n",
    "在预测过程中，预测系统对于给定的测试样本集中的输入xN+1，由模型或yN+1＝(xN+1)给出相应的输出yN+1。\n",
    "在学习过程中，学习系统（也就是学习算法）试图通过训练数据集中的样本(xi，yi)带来的信息学习模型。具体地说，对输入xi，一个具体的模型y＝f(x)可以产生一个输出f(xi)，而训练数据集中对应的输出是yi，如果这个模型有很好的预测能力，训练样本输出yi和模型输出f(xi)之间的差就应该足够小。学习系统通过不断的尝试，选取最好的模型，以便对训练数据集有足够好的预测，同时对未知的测试数据集的预测也有尽可能好的推广。"
   ]
  },
  {
   "cell_type": "markdown",
   "metadata": {},
   "source": [
    "## 统计学习三要素"
   ]
  },
  {
   "cell_type": "markdown",
   "metadata": {},
   "source": [
    "$$\n",
    "方法＝模型＋策略＋算法\n",
    "$$"
   ]
  },
  {
   "cell_type": "markdown",
   "metadata": {},
   "source": [
    "### 模型"
   ]
  },
  {
   "cell_type": "markdown",
   "metadata": {},
   "source": [
    "### 策略"
   ]
  },
  {
   "cell_type": "markdown",
   "metadata": {},
   "source": [
    "### 算法"
   ]
  },
  {
   "cell_type": "markdown",
   "metadata": {},
   "source": [
    "## 模型评估与模型选择"
   ]
  },
  {
   "cell_type": "markdown",
   "metadata": {},
   "source": [
    "### 训练误差与测试误差"
   ]
  },
  {
   "cell_type": "markdown",
   "metadata": {},
   "source": [
    "### 过拟合与模型选择"
   ]
  },
  {
   "cell_type": "markdown",
   "metadata": {},
   "source": [
    "## 正则化与交叉验证"
   ]
  },
  {
   "cell_type": "markdown",
   "metadata": {},
   "source": [
    "### 正则化"
   ]
  },
  {
   "cell_type": "markdown",
   "metadata": {},
   "source": [
    "### 交叉验证"
   ]
  },
  {
   "cell_type": "markdown",
   "metadata": {},
   "source": [
    "## 泛化能力"
   ]
  },
  {
   "cell_type": "markdown",
   "metadata": {},
   "source": [
    "### 泛化误差"
   ]
  },
  {
   "cell_type": "markdown",
   "metadata": {},
   "source": [
    "### 泛化误差上界"
   ]
  },
  {
   "cell_type": "markdown",
   "metadata": {},
   "source": [
    "## 生成模型与判别模型"
   ]
  },
  {
   "cell_type": "markdown",
   "metadata": {},
   "source": [
    "## 分类问题"
   ]
  },
  {
   "cell_type": "markdown",
   "metadata": {},
   "source": [
    "## 标注问题"
   ]
  },
  {
   "cell_type": "markdown",
   "metadata": {},
   "source": [
    "## 回归问题"
   ]
  },
  {
   "cell_type": "code",
   "execution_count": null,
   "metadata": {},
   "outputs": [],
   "source": []
  },
  {
   "cell_type": "code",
   "execution_count": null,
   "metadata": {},
   "outputs": [],
   "source": []
  },
  {
   "cell_type": "code",
   "execution_count": null,
   "metadata": {},
   "outputs": [],
   "source": []
  },
  {
   "cell_type": "code",
   "execution_count": null,
   "metadata": {},
   "outputs": [],
   "source": []
  },
  {
   "cell_type": "code",
   "execution_count": null,
   "metadata": {},
   "outputs": [],
   "source": []
  },
  {
   "cell_type": "code",
   "execution_count": null,
   "metadata": {},
   "outputs": [],
   "source": []
  },
  {
   "cell_type": "code",
   "execution_count": null,
   "metadata": {},
   "outputs": [],
   "source": []
  },
  {
   "cell_type": "code",
   "execution_count": null,
   "metadata": {},
   "outputs": [],
   "source": []
  },
  {
   "cell_type": "code",
   "execution_count": null,
   "metadata": {},
   "outputs": [],
   "source": []
  },
  {
   "cell_type": "code",
   "execution_count": null,
   "metadata": {},
   "outputs": [],
   "source": []
  }
 ],
 "metadata": {
  "kernelspec": {
   "display_name": "slmathod",
   "language": "python",
   "name": "slmathod"
  },
  "language_info": {
   "codemirror_mode": {
    "name": "ipython",
    "version": 3
   },
   "file_extension": ".py",
   "mimetype": "text/x-python",
   "name": "python",
   "nbconvert_exporter": "python",
   "pygments_lexer": "ipython3",
   "version": "3.7.3"
  },
  "toc": {
   "base_numbering": 1,
   "nav_menu": {},
   "number_sections": true,
   "sideBar": false,
   "skip_h1_title": false,
   "title_cell": "Table of Contents",
   "title_sidebar": "Contents",
   "toc_cell": true,
   "toc_position": {},
   "toc_section_display": true,
   "toc_window_display": false
  }
 },
 "nbformat": 4,
 "nbformat_minor": 2
}

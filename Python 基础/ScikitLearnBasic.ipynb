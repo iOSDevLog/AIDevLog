{
 "cells": [
  {
   "cell_type": "markdown",
   "metadata": {
    "toc": true
   },
   "source": [
    "<h1>Table of Contents<span class=\"tocSkip\"></span></h1>\n",
    "<div class=\"toc\"><ul class=\"toc-item\"><li><span><a href=\"#Scikit-learn-介绍\" data-toc-modified-id=\"Scikit-learn-介绍-1\"><span class=\"toc-item-num\">1&nbsp;&nbsp;</span>Scikit-learn 介绍</a></span><ul class=\"toc-item\"><li><span><a href=\"#分类\" data-toc-modified-id=\"分类-1.1\"><span class=\"toc-item-num\">1.1&nbsp;&nbsp;</span>分类</a></span></li><li><span><a href=\"#回归\" data-toc-modified-id=\"回归-1.2\"><span class=\"toc-item-num\">1.2&nbsp;&nbsp;</span>回归</a></span></li><li><span><a href=\"#聚类\" data-toc-modified-id=\"聚类-1.3\"><span class=\"toc-item-num\">1.3&nbsp;&nbsp;</span>聚类</a></span></li><li><span><a href=\"#降维\" data-toc-modified-id=\"降维-1.4\"><span class=\"toc-item-num\">1.4&nbsp;&nbsp;</span>降维</a></span></li><li><span><a href=\"#模型选择\" data-toc-modified-id=\"模型选择-1.5\"><span class=\"toc-item-num\">1.5&nbsp;&nbsp;</span>模型选择</a></span></li><li><span><a href=\"#预处理\" data-toc-modified-id=\"预处理-1.6\"><span class=\"toc-item-num\">1.6&nbsp;&nbsp;</span>预处理</a></span></li></ul></li><li><span><a href=\"#Scikit-learn-机器学习步骤\" data-toc-modified-id=\"Scikit-learn-机器学习步骤-2\"><span class=\"toc-item-num\">2&nbsp;&nbsp;</span>Scikit-learn 机器学习步骤</a></span><ul class=\"toc-item\"><li><span><a href=\"#导入常用库\" data-toc-modified-id=\"导入常用库-2.1\"><span class=\"toc-item-num\">2.1&nbsp;&nbsp;</span>导入常用库</a></span></li><li><span><a href=\"#加载数据\" data-toc-modified-id=\"加载数据-2.2\"><span class=\"toc-item-num\">2.2&nbsp;&nbsp;</span>加载数据</a></span></li><li><span><a href=\"#划分训练集与测试集\" data-toc-modified-id=\"划分训练集与测试集-2.3\"><span class=\"toc-item-num\">2.3&nbsp;&nbsp;</span>划分训练集与测试集</a></span></li><li><span><a href=\"#数据预处理\" data-toc-modified-id=\"数据预处理-2.4\"><span class=\"toc-item-num\">2.4&nbsp;&nbsp;</span>数据预处理</a></span></li><li><span><a href=\"#标准化\" data-toc-modified-id=\"标准化-2.5\"><span class=\"toc-item-num\">2.5&nbsp;&nbsp;</span>标准化</a></span><ul class=\"toc-item\"><li><span><a href=\"#归一化\" data-toc-modified-id=\"归一化-2.5.1\"><span class=\"toc-item-num\">2.5.1&nbsp;&nbsp;</span>归一化</a></span></li><li><span><a href=\"#二值化\" data-toc-modified-id=\"二值化-2.5.2\"><span class=\"toc-item-num\">2.5.2&nbsp;&nbsp;</span>二值化</a></span></li><li><span><a href=\"#编码分类特征\" data-toc-modified-id=\"编码分类特征-2.5.3\"><span class=\"toc-item-num\">2.5.3&nbsp;&nbsp;</span>编码分类特征</a></span></li><li><span><a href=\"#输入缺失值\" data-toc-modified-id=\"输入缺失值-2.5.4\"><span class=\"toc-item-num\">2.5.4&nbsp;&nbsp;</span>输入缺失值</a></span></li><li><span><a href=\"#生成多项式特征\" data-toc-modified-id=\"生成多项式特征-2.5.5\"><span class=\"toc-item-num\">2.5.5&nbsp;&nbsp;</span>生成多项式特征</a></span></li></ul></li><li><span><a href=\"#创建模型估计器\" data-toc-modified-id=\"创建模型估计器-2.6\"><span class=\"toc-item-num\">2.6&nbsp;&nbsp;</span>创建模型估计器</a></span><ul class=\"toc-item\"><li><span><a href=\"#监督学习\" data-toc-modified-id=\"监督学习-2.6.1\"><span class=\"toc-item-num\">2.6.1&nbsp;&nbsp;</span>监督学习</a></span></li><li><span><a href=\"#无监督学习\" data-toc-modified-id=\"无监督学习-2.6.2\"><span class=\"toc-item-num\">2.6.2&nbsp;&nbsp;</span>无监督学习</a></span></li></ul></li><li><span><a href=\"#拟合数据\" data-toc-modified-id=\"拟合数据-2.7\"><span class=\"toc-item-num\">2.7&nbsp;&nbsp;</span>拟合数据</a></span><ul class=\"toc-item\"><li><span><a href=\"#监督学习\" data-toc-modified-id=\"监督学习-2.7.1\"><span class=\"toc-item-num\">2.7.1&nbsp;&nbsp;</span>监督学习</a></span></li><li><span><a href=\"#无监督学习\" data-toc-modified-id=\"无监督学习-2.7.2\"><span class=\"toc-item-num\">2.7.2&nbsp;&nbsp;</span>无监督学习</a></span></li></ul></li><li><span><a href=\"#预测\" data-toc-modified-id=\"预测-2.8\"><span class=\"toc-item-num\">2.8&nbsp;&nbsp;</span>预测</a></span><ul class=\"toc-item\"><li><span><a href=\"#监督学习\" data-toc-modified-id=\"监督学习-2.8.1\"><span class=\"toc-item-num\">2.8.1&nbsp;&nbsp;</span>监督学习</a></span></li><li><span><a href=\"#无监督学习\" data-toc-modified-id=\"无监督学习-2.8.2\"><span class=\"toc-item-num\">2.8.2&nbsp;&nbsp;</span>无监督学习</a></span></li></ul></li><li><span><a href=\"#评估模型性能\" data-toc-modified-id=\"评估模型性能-2.9\"><span class=\"toc-item-num\">2.9&nbsp;&nbsp;</span>评估模型性能</a></span><ul class=\"toc-item\"><li><span><a href=\"#分类指标\" data-toc-modified-id=\"分类指标-2.9.1\"><span class=\"toc-item-num\">2.9.1&nbsp;&nbsp;</span>分类指标</a></span></li><li><span><a href=\"#回归指标\" data-toc-modified-id=\"回归指标-2.9.2\"><span class=\"toc-item-num\">2.9.2&nbsp;&nbsp;</span>回归指标</a></span></li><li><span><a href=\"#群集指标\" data-toc-modified-id=\"群集指标-2.9.3\"><span class=\"toc-item-num\">2.9.3&nbsp;&nbsp;</span>群集指标</a></span></li><li><span><a href=\"#交叉验证\" data-toc-modified-id=\"交叉验证-2.9.4\"><span class=\"toc-item-num\">2.9.4&nbsp;&nbsp;</span>交叉验证</a></span></li></ul></li><li><span><a href=\"#模型调整\" data-toc-modified-id=\"模型调整-2.10\"><span class=\"toc-item-num\">2.10&nbsp;&nbsp;</span>模型调整</a></span><ul class=\"toc-item\"><li><span><a href=\"#网格搜索\" data-toc-modified-id=\"网格搜索-2.10.1\"><span class=\"toc-item-num\">2.10.1&nbsp;&nbsp;</span>网格搜索</a></span></li><li><span><a href=\"#随机参数优化\" data-toc-modified-id=\"随机参数优化-2.10.2\"><span class=\"toc-item-num\">2.10.2&nbsp;&nbsp;</span>随机参数优化</a></span></li></ul></li></ul></li></ul></div>"
   ]
  },
  {
   "cell_type": "markdown",
   "metadata": {},
   "source": [
    "## Scikit-learn 介绍\n",
    "\n",
    "Scikit-learn 是开源的 Python 库，通过统一的界面实现机器学习、预处理、交叉验证及可视化算法。"
   ]
  },
  {
   "cell_type": "markdown",
   "metadata": {},
   "source": [
    "![scikit-learn](https://github.com/scikit-learn/scikit-learn/raw/master/doc/logos/scikit-learn-logo.png)"
   ]
  },
  {
   "cell_type": "markdown",
   "metadata": {},
   "source": [
    "scikit-learn 网站：<https://scikit-learn.org>"
   ]
  },
  {
   "cell_type": "markdown",
   "metadata": {},
   "source": [
    "Python 中的机器学习\n",
    "\n",
    "* 简单有效的数据挖掘和数据分析工具\n",
    "* 可供所有人访问，并可在各种环境中重复使用\n",
    "* 基于 NumPy，SciPy 和 matplotlib 构建\n",
    "* 开源，商业上可用 - BSD 许可证"
   ]
  },
  {
   "cell_type": "markdown",
   "metadata": {},
   "source": [
    "![ml_map](https://scikit-learn.org/stable/_static/ml_map.png)"
   ]
  },
  {
   "cell_type": "markdown",
   "metadata": {},
   "source": [
    "### 分类\n",
    "\n",
    "确定对象属于哪个类别。\n",
    "\n",
    "应用：垃圾邮件检测，图像识别。\n",
    "算法： SVM，最近邻居，随机森林，...... \n",
    "\n",
    "### 回归\n",
    "\n",
    "预测与对象关联的连续值属性。\n",
    "\n",
    "应用：药物反应，股票价格。\n",
    "算法： SVR，岭回归，套索，...... \n",
    "\n",
    "### 聚类\n",
    "\n",
    "将类似对象自动分组到集合中。\n",
    "\n",
    "应用：客户细分，分组实验结果\n",
    "算法： k-Means，谱聚类，均值漂移，...... \n",
    "\n",
    "### 降维\n",
    "\n",
    "减少要考虑的随机变量的数量。\n",
    "\n",
    "应用：可视化，提高效率\n",
    "算法： PCA，特征选择，非负矩阵分解。 \n",
    "\n",
    "### 模型选择\n",
    "\n",
    "比较，验证和选择参数和模型。\n",
    "\n",
    "目标：通过参数调整提高准确性\n",
    "模块： 网格搜索，交叉验证，指标。 \n",
    "\n",
    "### 预处理\n",
    "\n",
    "特征提取和规范化。\n",
    "\n",
    "应用程序：转换输入数据（如文本）以与机器学习算法一起使用。\n",
    "模块： 预处理，特征提取。"
   ]
  },
  {
   "cell_type": "markdown",
   "metadata": {},
   "source": [
    "## Scikit-learn 机器学习步骤"
   ]
  },
  {
   "cell_type": "code",
   "execution_count": null,
   "metadata": {},
   "outputs": [],
   "source": [
    "# 导入 sklearn\n",
    "from sklearn import neighbors, datasets, preprocessing\n",
    "from sklearn.model_selection import train_test_split\n",
    "from sklearn.metrics import accuracy_score\n",
    "\n",
    "# 加载数据\n",
    "iris = datasets.load_iris()\n",
    "\n",
    "# 划分训练集与测试集\n",
    "X, y = iris.data[:, :2], iris.target\n",
    "X_train, X_test, y_train, y_test = train_test_split(X, y, random_state=33)\n",
    "\n",
    "# 数据预处理\n",
    "scaler = preprocessing.StandardScaler().fit(X_train)\n",
    "X_train = scaler.transform(X_train)\n",
    "X_test = scaler.transform(X_test)\n",
    "\n",
    "# 创建模型\n",
    "knn = neighbors.KNeighborsClassifier(n_neighbors=5)\n",
    "# 模型拟合\n",
    "knn.fit(X_train, y_train)\n",
    "\n",
    "# 预测\n",
    "y_pred = knn.predict(X_test)\n",
    "# 评估\n",
    "accuracy_score(y_test, y_pred)"
   ]
  },
  {
   "cell_type": "markdown",
   "metadata": {},
   "source": [
    "### 导入常用库"
   ]
  },
  {
   "cell_type": "code",
   "execution_count": null,
   "metadata": {},
   "outputs": [],
   "source": [
    "import numpy as np\n",
    "import pandas as pd\n",
    "import matplotlib.pyplot as plt"
   ]
  },
  {
   "cell_type": "markdown",
   "metadata": {},
   "source": [
    "### 加载数据"
   ]
  },
  {
   "cell_type": "markdown",
   "metadata": {},
   "source": [
    "Scikit-learn 处理的数据是存储为 NumPy 数组或 SciPy 稀疏矩阵的数字，还支持 Pandas 数据框等可转换为数字数组的其它数据类型。"
   ]
  },
  {
   "cell_type": "code",
   "execution_count": null,
   "metadata": {},
   "outputs": [],
   "source": [
    "X = np.random.random((11, 5))\n",
    "y = np.array(['M', 'M', 'F', 'F', 'M', 'F', 'M', 'M', 'F', 'F', 'F'])\n",
    "X[X < 0.7] = 0"
   ]
  },
  {
   "cell_type": "markdown",
   "metadata": {},
   "source": [
    "### 划分训练集与测试集"
   ]
  },
  {
   "cell_type": "code",
   "execution_count": null,
   "metadata": {},
   "outputs": [],
   "source": [
    "from sklearn.model_selection import train_test_split\n",
    "X_train, X_test, y_train, y_test = train_test_split(X, y, random_state=0)"
   ]
  },
  {
   "cell_type": "markdown",
   "metadata": {},
   "source": [
    "### 数据预处理"
   ]
  },
  {
   "cell_type": "markdown",
   "metadata": {},
   "source": [
    "### 标准化"
   ]
  },
  {
   "cell_type": "code",
   "execution_count": null,
   "metadata": {},
   "outputs": [],
   "source": [
    "from sklearn.preprocessing import StandardScaler\n",
    "scaler = StandardScaler().fit(X_train)\n",
    "standardized_X = scaler.transform(X_train)\n",
    "standardized_X_test = scaler.transform(X_test)"
   ]
  },
  {
   "cell_type": "markdown",
   "metadata": {},
   "source": [
    "#### 归一化"
   ]
  },
  {
   "cell_type": "code",
   "execution_count": null,
   "metadata": {},
   "outputs": [],
   "source": [
    "from sklearn.preprocessing import Normalizer\n",
    "scaler = Normalizer().fit(X_train)\n",
    "normalized_X = scaler.transform(X_train)\n",
    "normalized_X_test = scaler.transform(X_test)"
   ]
  },
  {
   "cell_type": "markdown",
   "metadata": {},
   "source": [
    "#### 二值化"
   ]
  },
  {
   "cell_type": "code",
   "execution_count": null,
   "metadata": {},
   "outputs": [],
   "source": [
    "from sklearn.preprocessing import Binarizer\n",
    "binarizer = Binarizer(threshold=0.0).fit(X)\n",
    "binary_X = binarizer.transform(X)"
   ]
  },
  {
   "cell_type": "markdown",
   "metadata": {},
   "source": [
    "#### 编码分类特征"
   ]
  },
  {
   "cell_type": "code",
   "execution_count": null,
   "metadata": {},
   "outputs": [],
   "source": [
    "from sklearn.preprocessing import LabelEncoder\n",
    "enc = LabelEncoder()\n",
    "y = enc.fit_transform(y)"
   ]
  },
  {
   "cell_type": "markdown",
   "metadata": {},
   "source": [
    "#### 输入缺失值"
   ]
  },
  {
   "cell_type": "code",
   "execution_count": null,
   "metadata": {},
   "outputs": [],
   "source": [
    "from sklearn.preprocessing import Imputer\n",
    "imp = Imputer(missing_values=0, strategy='mean', axis=0)\n",
    "imp.fit_transform(X_train)"
   ]
  },
  {
   "cell_type": "markdown",
   "metadata": {},
   "source": [
    "#### 生成多项式特征"
   ]
  },
  {
   "cell_type": "code",
   "execution_count": null,
   "metadata": {},
   "outputs": [],
   "source": [
    "from sklearn.preprocessing import PolynomialFeatures\n",
    "poly = PolynomialFeatures(5)\n",
    "poly.fit_transform(X)"
   ]
  },
  {
   "cell_type": "markdown",
   "metadata": {},
   "source": [
    "### 创建模型估计器"
   ]
  },
  {
   "cell_type": "markdown",
   "metadata": {},
   "source": [
    "#### 监督学习"
   ]
  },
  {
   "cell_type": "code",
   "execution_count": null,
   "metadata": {},
   "outputs": [],
   "source": [
    "# 线性回归\n",
    "from sklearn.linear_model import LinearRegression\n",
    "lr = LinearRegression(normalize=True)\n",
    "# 支持向量机(SVM)\n",
    "from sklearn.svm import SVC\n",
    "svc = SVC(kernel='linear')\n",
    "# 朴素贝叶斯\n",
    "from sklearn.naive_bayes import GaussianNB\n",
    "gnb = GaussianNB()\n",
    "# KNN\n",
    "from sklearn import neighbors\n",
    "knn = neighbors.KNeighborsClassifier(n_neighbors=5)"
   ]
  },
  {
   "cell_type": "markdown",
   "metadata": {},
   "source": [
    "#### 无监督学习"
   ]
  },
  {
   "cell_type": "code",
   "execution_count": null,
   "metadata": {},
   "outputs": [],
   "source": [
    "# 主成分分析（PCA)\n",
    "from sklearn.cluster import KMeans\n",
    "from sklearn.decomposition import PCA\n",
    "pca = PCA(n_components=0.95)\n",
    "# K Means\n",
    "k_means = KMeans(n_clusters=3, random_state=0)"
   ]
  },
  {
   "cell_type": "markdown",
   "metadata": {},
   "source": [
    "### 拟合数据"
   ]
  },
  {
   "cell_type": "markdown",
   "metadata": {},
   "source": [
    "#### 监督学习"
   ]
  },
  {
   "cell_type": "code",
   "execution_count": null,
   "metadata": {},
   "outputs": [],
   "source": [
    "lr.fit(X, y)\n",
    "knn.fit(X_train, y_train)\n",
    "svc.fit(X_train, y_train)"
   ]
  },
  {
   "cell_type": "markdown",
   "metadata": {},
   "source": [
    "#### 无监督学习"
   ]
  },
  {
   "cell_type": "code",
   "execution_count": null,
   "metadata": {},
   "outputs": [],
   "source": [
    "k_means.fit(X_train)\n",
    "pca_model = pca.fit_transform(X_train)"
   ]
  },
  {
   "cell_type": "markdown",
   "metadata": {},
   "source": [
    "### 预测"
   ]
  },
  {
   "cell_type": "markdown",
   "metadata": {},
   "source": [
    "#### 监督学习"
   ]
  },
  {
   "cell_type": "code",
   "execution_count": null,
   "metadata": {},
   "outputs": [],
   "source": [
    "# 预测标签\n",
    "y_pred = svc.predict(np.random.random((2,5)))\n",
    "# 预测标签\n",
    "y_pred = lr.predict(X_test)\n",
    "# 评估标签概率\n",
    "y_pred = knn.predict_proba(X_test)"
   ]
  },
  {
   "cell_type": "markdown",
   "metadata": {},
   "source": [
    "#### 无监督学习"
   ]
  },
  {
   "cell_type": "code",
   "execution_count": null,
   "metadata": {},
   "outputs": [],
   "source": [
    "y_pred = k_means.predict(X_test)"
   ]
  },
  {
   "cell_type": "markdown",
   "metadata": {},
   "source": [
    "### 评估模型性能"
   ]
  },
  {
   "cell_type": "markdown",
   "metadata": {},
   "source": [
    "#### 分类指标"
   ]
  },
  {
   "cell_type": "code",
   "execution_count": null,
   "metadata": {},
   "outputs": [],
   "source": [
    "# 准确率\n",
    "knn.score(X_test, y_test)\n",
    "from sklearn.metrics import accuracy_score\n",
    "accuracy_score(y_test, y_pred)\n",
    "# 分类预估评价函数\n",
    "from sklearn.metrics import classification_report\n",
    "print(classification_report(y_test, y_pred))\n",
    "# 混淆矩阵\n",
    "from sklearn.metrics import confusion_matrix\n",
    "print(confusion_matrix(y_test, y_pred))"
   ]
  },
  {
   "cell_type": "markdown",
   "metadata": {},
   "source": [
    "#### 回归指标"
   ]
  },
  {
   "cell_type": "code",
   "execution_count": null,
   "metadata": {},
   "outputs": [],
   "source": [
    "# 平均绝对误差\n",
    "from sklearn.metrics import mean_absolute_error\n",
    "y_true = [3, -0.5, 2]\n",
    "mean_absolute_error(y_true, y_pred)\n",
    "# 均方误差\n",
    "from sklearn.metrics import mean_squared_error\n",
    "mean_squared_error(y_test, y_pred)\n",
    "# R2 评分\n",
    "from sklearn.metrics import r2_score\n",
    "r2_score(y_true, y_pred)"
   ]
  },
  {
   "cell_type": "markdown",
   "metadata": {},
   "source": [
    "#### 群集指标"
   ]
  },
  {
   "cell_type": "code",
   "execution_count": null,
   "metadata": {},
   "outputs": [],
   "source": [
    "# 调整兰德系数\n",
    "from sklearn.metrics import adjusted_rand_score\n",
    "adjusted_rand_score(y_true, y_pred)\n",
    "# 同质性\n",
    "from sklearn.metrics import homogeneity_score\n",
    "homogeneity_score(y_true, y_pred)\n",
    "# V-measure\n",
    "from sklearn.metrics import v_measure_score\n",
    "metrics.v_measure_score(y_true, y_pred)"
   ]
  },
  {
   "cell_type": "markdown",
   "metadata": {},
   "source": [
    "#### 交叉验证"
   ]
  },
  {
   "cell_type": "code",
   "execution_count": null,
   "metadata": {},
   "outputs": [],
   "source": [
    "from sklearn.cross_validation import cross_val_score\n",
    "print(cross_val_score(knn, X_train, y_train, cv=4))\n",
    "print(cross_val_score(lr, X, y, cv=2))"
   ]
  },
  {
   "cell_type": "markdown",
   "metadata": {},
   "source": [
    "### 模型调整"
   ]
  },
  {
   "cell_type": "markdown",
   "metadata": {},
   "source": [
    "#### 网格搜索"
   ]
  },
  {
   "cell_type": "code",
   "execution_count": null,
   "metadata": {},
   "outputs": [],
   "source": [
    "from sklearn.grid search import GridSearchcV\n",
    "params = {\"n neighbors\": np.arange(1, 3)，\n",
    "          \"metric\": [\"euclidean\", \"cityblock\"]}\n",
    "grid = GridSearchCV(estimator=knn,\n",
    "                    param_grid-params)\n",
    "grid.fit(X_train, y_train)\n",
    "print(grid.best score)\n",
    "print(grid.best_estimator_.n_neighbors)"
   ]
  },
  {
   "cell_type": "markdown",
   "metadata": {},
   "source": [
    "#### 随机参数优化"
   ]
  },
  {
   "cell_type": "code",
   "execution_count": null,
   "metadata": {},
   "outputs": [],
   "source": [
    "from sklearn.grid_search import RandomizedSearchCV\n",
    "params = {\"n_neighbors\": range(1, 5),\n",
    "          \"weights\": [\"uniform\", \"distance\"]}\n",
    "rsearch = RandomizedSearchCV(estimator=knn,\n",
    "                             rsearch.fit(X_train, y_train) random_state=5)\n",
    "print(rsearch.best_score_)"
   ]
  }
 ],
 "metadata": {
  "kernelspec": {
   "display_name": "Python 3",
   "language": "python",
   "name": "python3"
  },
  "language_info": {
   "codemirror_mode": {
    "name": "ipython",
    "version": 3
   },
   "file_extension": ".py",
   "mimetype": "text/x-python",
   "name": "python",
   "nbconvert_exporter": "python",
   "pygments_lexer": "ipython3",
   "version": "3.7.1"
  },
  "toc": {
   "base_numbering": 1,
   "nav_menu": {},
   "number_sections": true,
   "sideBar": true,
   "skip_h1_title": false,
   "title_cell": "Table of Contents",
   "title_sidebar": "Contents",
   "toc_cell": true,
   "toc_position": {},
   "toc_section_display": true,
   "toc_window_display": true
  }
 },
 "nbformat": 4,
 "nbformat_minor": 2
}
